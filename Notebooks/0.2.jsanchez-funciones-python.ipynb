{
 "cells": [
  {
   "cell_type": "code",
   "execution_count": 1,
   "metadata": {},
   "outputs": [],
   "source": [
    "# funcion f(x, y, z) = x + y + z\n",
    "\n",
    "def f(x, y, z):\n",
    "    resultado = x + y + z\n",
    "\n",
    "    return resultado"
   ]
  },
  {
   "cell_type": "code",
   "execution_count": 2,
   "metadata": {},
   "outputs": [
    {
     "data": {
      "text/plain": [
       "6"
      ]
     },
     "execution_count": 2,
     "metadata": {},
     "output_type": "execute_result"
    }
   ],
   "source": [
    "f(x=5, y=3, z=-2)"
   ]
  },
  {
   "cell_type": "code",
   "execution_count": 3,
   "metadata": {},
   "outputs": [],
   "source": [
    "# quiero una funcion que me calcule:\n",
    "# 1. la suma de todos los numeros de una lista\n",
    "# 2. minimo valor de la lista\n",
    "# 3. maximo valor de la lista\n",
    "# 4. la media y la desviacion estandar"
   ]
  },
  {
   "cell_type": "code",
   "execution_count": 4,
   "metadata": {},
   "outputs": [],
   "source": [
    "import numpy as np\n",
    "\n",
    "def calcular_min_max(lista_numeros, verbose=True):\n",
    "    '''\n",
    "    Retorna los valores minimo y maximo de una de lista de numeros\n",
    "    Args:\n",
    "        lista_numeros: type list\n",
    "    '''\n",
    "    min_value = min(lista_numeros)\n",
    "    max_value = max(lista_numeros)\n",
    "\n",
    "    if verbose == True:\n",
    "        print('Valor minimo:', min_value)\n",
    "        print('Valor maximo:', max_value)\n",
    "    else:\n",
    "        pass\n",
    "    return min_value, max_value\n",
    "\n",
    "def calcular_valores_centrales(lista_numeros, verbose=True):\n",
    "    \"\"\"Calcula la media y las desviacion estandar de una lista de\n",
    "    numeros\n",
    "\n",
    "    Args:\n",
    "        lista_numeros (list): lista con valores numericos\n",
    "        verbose (bool, optional): para decidir si imprimir mensajes en pantalla. Defaults to True.\n",
    "\n",
    "    Returns:\n",
    "        tuple: (media, dev_std)\n",
    "    \"\"\"\n",
    "    media   = np.mean(lista_numeros)\n",
    "    dev_std = np.std(lista_numeros)\n",
    "\n",
    "    if verbose == True:\n",
    "        print('Media:', media)\n",
    "        print('Desviacion Estandar:', dev_std)\n",
    "    else:\n",
    "        pass\n",
    "    return media, dev_std\n",
    "\n",
    "def calcular_valores(lista_numeros, verbose=True):\n",
    "    \"\"\"Retorna una tupla con valores suma, minimo, maximo\n",
    "    media y desviacion estandar de un lista de numeros\n",
    "\n",
    "    Args:\n",
    "        lista_numeros (list): lista con valores numericos\n",
    "        verbose (bool, optional): para decidir si imprimir mensajes en pantalla. Defaults to True.\n",
    "\n",
    "    Returns:\n",
    "        _type_: _description_\n",
    "    \"\"\"\n",
    "    suma             = np.sum(lista_numeros)   # calcular_suma(lista_numeros)\n",
    "    min_val, max_val = calcular_min_max(lista_numeros, verbose)\n",
    "    media, dev_std   = calcular_valores_centrales(lista_numeros)\n",
    "\n",
    "    return suma, min_val, max_val, media, dev_std"
   ]
  },
  {
   "cell_type": "code",
   "execution_count": 5,
   "metadata": {},
   "outputs": [
    {
     "name": "stdout",
     "output_type": "stream",
     "text": [
      "Valor minimo: 4\n",
      "Valor maximo: 21\n",
      "Media: 9.4\n",
      "Desviacion Estandar: 6.086049621881176\n"
     ]
    },
    {
     "data": {
      "text/plain": [
       "(47, 4, 21, 9.4, 6.086049621881176)"
      ]
     },
     "execution_count": 5,
     "metadata": {},
     "output_type": "execute_result"
    }
   ],
   "source": [
    "lista_valores = [5, 4, 8, 9, 21]   \n",
    "\n",
    "calcular_valores(lista_numeros=lista_valores, verbose=True)"
   ]
  }
 ],
 "metadata": {
  "environment": {
   "kernel": "python3",
   "name": "common-cpu.m97",
   "type": "gcloud",
   "uri": "gcr.io/deeplearning-platform-release/base-cpu:m97"
  },
  "kernelspec": {
   "display_name": "Python 3",
   "language": "python",
   "name": "python3"
  },
  "language_info": {
   "codemirror_mode": {
    "name": "ipython",
    "version": 3
   },
   "file_extension": ".py",
   "mimetype": "text/x-python",
   "name": "python",
   "nbconvert_exporter": "python",
   "pygments_lexer": "ipython3",
   "version": "3.7.12"
  },
  "vscode": {
   "interpreter": {
    "hash": "ad2bdc8ecc057115af97d19610ffacc2b4e99fae6737bb82f5d7fb13d2f2c186"
   }
  }
 },
 "nbformat": 4,
 "nbformat_minor": 4
}
